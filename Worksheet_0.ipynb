{
  "nbformat": 4,
  "nbformat_minor": 0,
  "metadata": {
    "colab": {
      "provenance": []
    },
    "kernelspec": {
      "name": "python3",
      "display_name": "Python 3"
    },
    "language_info": {
      "name": "python"
    }
  },
  "cells": [
    {
      "cell_type": "markdown",
      "source": [
        "### Problem - 1: Array Creation\n",
        "\n",
        "\n"
      ],
      "metadata": {
        "id": "KYCrQYnv-_nQ"
      }
    },
    {
      "cell_type": "code",
      "execution_count": 7,
      "metadata": {
        "colab": {
          "base_uri": "https://localhost:8080/"
        },
        "id": "DR53pO_U-Fq5",
        "outputId": "bf94a71a-7862-41c7-c82c-76dcf86b58c5"
      },
      "outputs": [
        {
          "output_type": "stream",
          "name": "stdout",
          "text": [
            "Empty Array 2x2:\n",
            " [[2.00193947e-316 0.00000000e+000]\n",
            " [6.67180043e-310 6.67180032e-310]]\n"
          ]
        }
      ],
      "source": [
        "import numpy as np\n",
        "\n",
        "# 1. Initialize an empty array with size 2x2\n",
        "empty_array = np.empty((2, 2))\n",
        "print(\"Empty Array 2x2:\\n\", empty_array)\n"
      ]
    },
    {
      "cell_type": "code",
      "source": [
        "# 2. Initialize an all-one array with size 4x2\n",
        "ones_array = np.ones((4, 2))\n",
        "print(\"\\nAll Ones Array 4x2:\\n\", ones_array)\n",
        "\n"
      ],
      "metadata": {
        "colab": {
          "base_uri": "https://localhost:8080/"
        },
        "id": "x5HrFZhP-WzE",
        "outputId": "84b170f6-a1f6-4794-b22e-57938dbd90c0"
      },
      "execution_count": 8,
      "outputs": [
        {
          "output_type": "stream",
          "name": "stdout",
          "text": [
            "\n",
            "All Ones Array 4x2:\n",
            " [[1. 1.]\n",
            " [1. 1.]\n",
            " [1. 1.]\n",
            " [1. 1.]]\n"
          ]
        }
      ]
    },
    {
      "cell_type": "code",
      "source": [
        "# 3. Return a new array of given shape and type, filled with fill value\n",
        "full_array = np.full((3, 3), 7)  # shape (3,3), filled with 7\n",
        "print(\"\\nFull Array (3x3 filled with 7):\\n\", full_array)\n",
        "\n",
        "\n"
      ],
      "metadata": {
        "colab": {
          "base_uri": "https://localhost:8080/"
        },
        "id": "do8eY4Iu-bdT",
        "outputId": "0929d21f-793d-4ad6-c8de-a0bb7af24de2"
      },
      "execution_count": 9,
      "outputs": [
        {
          "output_type": "stream",
          "name": "stdout",
          "text": [
            "\n",
            "Full Array (3x3 filled with 7):\n",
            " [[7 7 7]\n",
            " [7 7 7]\n",
            " [7 7 7]]\n"
          ]
        }
      ]
    },
    {
      "cell_type": "code",
      "source": [
        "# 4. Return a new array of zeros with the same shape and type as a given array\n",
        "array_for_reference = np.array([1, 2, 3, 4])\n",
        "zeros_like_array = np.zeros_like(array_for_reference)\n",
        "print(\"\\nZeros Array with shape of array_for_reference:\\n\", zeros_like_array)\n",
        "\n"
      ],
      "metadata": {
        "colab": {
          "base_uri": "https://localhost:8080/"
        },
        "id": "VqRY8oQG-g5c",
        "outputId": "5722128e-e7a4-4fa1-896a-8918daad2a61"
      },
      "execution_count": 10,
      "outputs": [
        {
          "output_type": "stream",
          "name": "stdout",
          "text": [
            "\n",
            "Zeros Array with shape of array_for_reference:\n",
            " [0 0 0 0]\n"
          ]
        }
      ]
    },
    {
      "cell_type": "code",
      "source": [
        "# 5. Return a new array of ones with the same shape and type as a given array\n",
        "ones_like_array = np.ones_like(array_for_reference)\n",
        "print(\"\\nOnes Array with shape of array_for_reference:\\n\", ones_like_array)\n",
        "\n"
      ],
      "metadata": {
        "colab": {
          "base_uri": "https://localhost:8080/"
        },
        "id": "-qtyQaro-l9F",
        "outputId": "6c4360ba-219b-47c4-c5c9-61e51d47f80c"
      },
      "execution_count": 11,
      "outputs": [
        {
          "output_type": "stream",
          "name": "stdout",
          "text": [
            "\n",
            "Ones Array with shape of array_for_reference:\n",
            " [1 1 1 1]\n"
          ]
        }
      ]
    },
    {
      "cell_type": "code",
      "source": [
        "# 6. Convert list to numpy array\n",
        "new_list = [1, 2, 3, 4]\n",
        "numpy_array_from_list = np.array(new_list)\n",
        "print(\"\\nNumpy Array from List:\\n\", numpy_array_from_list)"
      ],
      "metadata": {
        "colab": {
          "base_uri": "https://localhost:8080/"
        },
        "id": "gy4dLCeV-tv7",
        "outputId": "9113bd3d-9d9b-403f-8c3c-2a4c97b5a851"
      },
      "execution_count": 12,
      "outputs": [
        {
          "output_type": "stream",
          "name": "stdout",
          "text": [
            "\n",
            "Numpy Array from List:\n",
            " [1 2 3 4]\n"
          ]
        }
      ]
    },
    {
      "cell_type": "markdown",
      "source": [
        "### Problem - 2: Array Manipulation: Numerical Ranges and Array indexing"
      ],
      "metadata": {
        "id": "YLqUOlBI_N62"
      }
    },
    {
      "cell_type": "code",
      "source": [
        "# 1. Create an array with values ranging from 10 to 49\n",
        "array_range = np.arange(10, 50)\n",
        "print(\"\\nArray from 10 to 49:\\n\", array_range)"
      ],
      "metadata": {
        "colab": {
          "base_uri": "https://localhost:8080/"
        },
        "id": "BAJPSAde_aGl",
        "outputId": "f4a0f9b7-6eef-43c3-b844-424cc6e8a0ac"
      },
      "execution_count": 13,
      "outputs": [
        {
          "output_type": "stream",
          "name": "stdout",
          "text": [
            "\n",
            "Array from 10 to 49:\n",
            " [10 11 12 13 14 15 16 17 18 19 20 21 22 23 24 25 26 27 28 29 30 31 32 33\n",
            " 34 35 36 37 38 39 40 41 42 43 44 45 46 47 48 49]\n"
          ]
        }
      ]
    },
    {
      "cell_type": "code",
      "source": [
        "# 2. Create a 3x3 matrix with values ranging from 0 to 8\n",
        "matrix_3x3 = np.arange(9).reshape(3, 3)\n",
        "print(\"\\n3x3 Matrix from 0 to 8:\\n\", matrix_3x3)"
      ],
      "metadata": {
        "colab": {
          "base_uri": "https://localhost:8080/"
        },
        "id": "jt3A_UWg_hki",
        "outputId": "80205702-2004-4d61-a517-ba32b56e2ba2"
      },
      "execution_count": 14,
      "outputs": [
        {
          "output_type": "stream",
          "name": "stdout",
          "text": [
            "\n",
            "3x3 Matrix from 0 to 8:\n",
            " [[0 1 2]\n",
            " [3 4 5]\n",
            " [6 7 8]]\n"
          ]
        }
      ]
    },
    {
      "cell_type": "code",
      "source": [
        "# 3. Create a 3x3 identity matrix\n",
        "identity_matrix = np.eye(3)\n",
        "print(\"\\n3x3 Identity Matrix:\\n\", identity_matrix)"
      ],
      "metadata": {
        "colab": {
          "base_uri": "https://localhost:8080/"
        },
        "id": "9D_dEBb7_jdS",
        "outputId": "46b011f6-9465-4614-a441-795f1fcbd2ad"
      },
      "execution_count": 15,
      "outputs": [
        {
          "output_type": "stream",
          "name": "stdout",
          "text": [
            "\n",
            "3x3 Identity Matrix:\n",
            " [[1. 0. 0.]\n",
            " [0. 1. 0.]\n",
            " [0. 0. 1.]]\n"
          ]
        }
      ]
    },
    {
      "cell_type": "code",
      "source": [
        "# 4. Create a random array of size 30 and find the mean\n",
        "random_array = np.random.random(30)\n",
        "mean_of_array = random_array.mean()\n",
        "print(\"\\nMean of Random Array:\\n\", mean_of_array)"
      ],
      "metadata": {
        "colab": {
          "base_uri": "https://localhost:8080/"
        },
        "id": "bEsgQwFX_ltI",
        "outputId": "c4a603e6-2ddd-4853-cb7e-8fd5948c38af"
      },
      "execution_count": 16,
      "outputs": [
        {
          "output_type": "stream",
          "name": "stdout",
          "text": [
            "\n",
            "Mean of Random Array:\n",
            " 0.48549942867425977\n"
          ]
        }
      ]
    },
    {
      "cell_type": "code",
      "source": [
        "# 5. Create a 10x10 array with random values and find the min and max\n",
        "random_10x10 = np.random.random((10, 10))\n",
        "min_value = random_10x10.min()\n",
        "max_value = random_10x10.max()\n",
        "print(\"\\nMin Value:\", min_value, \"Max Value:\", max_value)"
      ],
      "metadata": {
        "colab": {
          "base_uri": "https://localhost:8080/"
        },
        "id": "d_uQDgbF_ohj",
        "outputId": "7780ba28-de2c-4069-b578-e96b8bad80fa"
      },
      "execution_count": 17,
      "outputs": [
        {
          "output_type": "stream",
          "name": "stdout",
          "text": [
            "\n",
            "Min Value: 0.0004532754777657466 Max Value: 0.966440360481118\n"
          ]
        }
      ]
    },
    {
      "cell_type": "code",
      "source": [
        "# 6. Create a zero array of size 10 and replace 5th element with 1\n",
        "zero_array = np.zeros(10)\n",
        "zero_array[4] = 1\n",
        "print(\"\\nZero Array with 5th Element as 1:\\n\", zero_array)"
      ],
      "metadata": {
        "colab": {
          "base_uri": "https://localhost:8080/"
        },
        "id": "6JBckUeR_qcE",
        "outputId": "4de2ea82-57d3-4ce4-f84e-79ac9bbcbc7b"
      },
      "execution_count": 18,
      "outputs": [
        {
          "output_type": "stream",
          "name": "stdout",
          "text": [
            "\n",
            "Zero Array with 5th Element as 1:\n",
            " [0. 0. 0. 0. 1. 0. 0. 0. 0. 0.]\n"
          ]
        }
      ]
    },
    {
      "cell_type": "code",
      "source": [
        "# 7. Reverse an array arr = [1,2,0,0,4,0]\n",
        "arr = np.array([1, 2, 0, 0, 4, 0])\n",
        "reversed_arr = arr[::-1]\n",
        "print(\"\\nReversed Array:\\n\", reversed_arr)"
      ],
      "metadata": {
        "colab": {
          "base_uri": "https://localhost:8080/"
        },
        "id": "1P65X5XJ_sEh",
        "outputId": "3ceb0cb4-591c-4379-afeb-d475b0642bcd"
      },
      "execution_count": 19,
      "outputs": [
        {
          "output_type": "stream",
          "name": "stdout",
          "text": [
            "\n",
            "Reversed Array:\n",
            " [0 4 0 0 2 1]\n"
          ]
        }
      ]
    },
    {
      "cell_type": "code",
      "source": [
        "# 8. Create a 2D array with 1 on border and 0 inside\n",
        "border_1_array = np.ones((5, 5))\n",
        "border_1_array[1:-1, 1:-1] = 0\n",
        "print(\"\\n2D Array with 1 on border and 0 inside:\\n\", border_1_array)"
      ],
      "metadata": {
        "colab": {
          "base_uri": "https://localhost:8080/"
        },
        "id": "w--9Ao_8_uUY",
        "outputId": "43a54994-7356-4fb3-a73d-de7e121c9189"
      },
      "execution_count": 20,
      "outputs": [
        {
          "output_type": "stream",
          "name": "stdout",
          "text": [
            "\n",
            "2D Array with 1 on border and 0 inside:\n",
            " [[1. 1. 1. 1. 1.]\n",
            " [1. 0. 0. 0. 1.]\n",
            " [1. 0. 0. 0. 1.]\n",
            " [1. 0. 0. 0. 1.]\n",
            " [1. 1. 1. 1. 1.]]\n"
          ]
        }
      ]
    },
    {
      "cell_type": "code",
      "source": [
        "# 9. Create an 8x8 matrix and fill it with a checkerboard pattern\n",
        "checkerboard = np.zeros((8, 8))\n",
        "checkerboard[1::2, ::2] = 1\n",
        "checkerboard[::2, 1::2] = 1\n",
        "print(\"\\nCheckerboard Pattern:\\n\", checkerboard)"
      ],
      "metadata": {
        "colab": {
          "base_uri": "https://localhost:8080/"
        },
        "id": "dmDpXVEe_wZl",
        "outputId": "348a4962-88cb-4b2d-95ee-a1642ba818c4"
      },
      "execution_count": 21,
      "outputs": [
        {
          "output_type": "stream",
          "name": "stdout",
          "text": [
            "\n",
            "Checkerboard Pattern:\n",
            " [[0. 1. 0. 1. 0. 1. 0. 1.]\n",
            " [1. 0. 1. 0. 1. 0. 1. 0.]\n",
            " [0. 1. 0. 1. 0. 1. 0. 1.]\n",
            " [1. 0. 1. 0. 1. 0. 1. 0.]\n",
            " [0. 1. 0. 1. 0. 1. 0. 1.]\n",
            " [1. 0. 1. 0. 1. 0. 1. 0.]\n",
            " [0. 1. 0. 1. 0. 1. 0. 1.]\n",
            " [1. 0. 1. 0. 1. 0. 1. 0.]]\n"
          ]
        }
      ]
    },
    {
      "cell_type": "markdown",
      "source": [
        "###Problem - 3: Array Operations\n"
      ],
      "metadata": {
        "id": "PlqjhTI-_1dV"
      }
    },
    {
      "cell_type": "code",
      "source": [
        "# Given arrays\n",
        "x = np.array([[1, 2], [3, 5]])\n",
        "y = np.array([[5, 6], [7, 8]])\n",
        "v = np.array([9, 10])\n",
        "w = np.array([11, 12])\n",
        "\n",
        "# 1. Add the two arrays\n",
        "addition_result = x + y\n",
        "print(\"\\nAddition of x and y:\\n\", addition_result)"
      ],
      "metadata": {
        "colab": {
          "base_uri": "https://localhost:8080/"
        },
        "id": "Bkpusx47_4s1",
        "outputId": "59f7fc9d-3ff3-4d28-9ab2-a8b07b4def43"
      },
      "execution_count": 22,
      "outputs": [
        {
          "output_type": "stream",
          "name": "stdout",
          "text": [
            "\n",
            "Addition of x and y:\n",
            " [[ 6  8]\n",
            " [10 13]]\n"
          ]
        }
      ]
    },
    {
      "cell_type": "code",
      "source": [
        "# 2. Subtract the two arrays\n",
        "subtraction_result = x - y\n",
        "print(\"\\nSubtraction of x and y:\\n\", subtraction_result)"
      ],
      "metadata": {
        "colab": {
          "base_uri": "https://localhost:8080/"
        },
        "id": "AicOk3XNAAcj",
        "outputId": "6cc0f94f-c643-4511-f50d-2acdee864995"
      },
      "execution_count": 23,
      "outputs": [
        {
          "output_type": "stream",
          "name": "stdout",
          "text": [
            "\n",
            "Subtraction of x and y:\n",
            " [[-4 -4]\n",
            " [-4 -3]]\n"
          ]
        }
      ]
    },
    {
      "cell_type": "code",
      "source": [
        "# 3. Multiply the array with any integer\n",
        "multiplication_result = x * 2\n",
        "print(\"\\nMultiplication of x by 2:\\n\", multiplication_result)"
      ],
      "metadata": {
        "colab": {
          "base_uri": "https://localhost:8080/"
        },
        "id": "NZn_Z0JAABbG",
        "outputId": "319fd212-4f15-4a91-9884-f6cd2d80b2a4"
      },
      "execution_count": 24,
      "outputs": [
        {
          "output_type": "stream",
          "name": "stdout",
          "text": [
            "\n",
            "Multiplication of x by 2:\n",
            " [[ 2  4]\n",
            " [ 6 10]]\n"
          ]
        }
      ]
    },
    {
      "cell_type": "code",
      "source": [
        "# 4. Find the square of each element\n",
        "squared_result = np.square(x)\n",
        "print(\"\\nSquare of each element in x:\\n\", squared_result)\n"
      ],
      "metadata": {
        "colab": {
          "base_uri": "https://localhost:8080/"
        },
        "id": "49aO3FVkAE5G",
        "outputId": "59f9d65d-ff47-4d0a-bbc1-9c9f9597a490"
      },
      "execution_count": 25,
      "outputs": [
        {
          "output_type": "stream",
          "name": "stdout",
          "text": [
            "\n",
            "Square of each element in x:\n",
            " [[ 1  4]\n",
            " [ 9 25]]\n"
          ]
        }
      ]
    },
    {
      "cell_type": "code",
      "source": [
        "# 5. Find the dot product between:\n",
        "dot_v_w = np.dot(v, w)\n",
        "dot_x_v = np.dot(x, v)\n",
        "dot_x_y = np.dot(x, y)\n",
        "print(\"\\nDot Product v and w:\", dot_v_w)\n",
        "print(\"Dot Product x and v:\\n\", dot_x_v)\n",
        "print(\"Dot Product x and y:\\n\", dot_x_y)"
      ],
      "metadata": {
        "colab": {
          "base_uri": "https://localhost:8080/"
        },
        "id": "rWuv9kgKAG8V",
        "outputId": "5bb85427-c188-449c-8053-d02c2eeb2a94"
      },
      "execution_count": 26,
      "outputs": [
        {
          "output_type": "stream",
          "name": "stdout",
          "text": [
            "\n",
            "Dot Product v and w: 219\n",
            "Dot Product x and v:\n",
            " [29 77]\n",
            "Dot Product x and y:\n",
            " [[19 22]\n",
            " [50 58]]\n"
          ]
        }
      ]
    },
    {
      "cell_type": "code",
      "source": [
        "# 6. Concatenate x and y along row and concatenate v and w along column\n",
        "concat_xy_row = np.concatenate((x, y), axis=1)\n",
        "concat_vw_column = np.concatenate((v.reshape(-1, 1), w.reshape(-1, 1)), axis=1)\n",
        "print(\"\\nConcatenate x and y along row:\\n\", concat_xy_row)\n",
        "print(\"\\nConcatenate v and w along column:\\n\", concat_vw_column)"
      ],
      "metadata": {
        "colab": {
          "base_uri": "https://localhost:8080/"
        },
        "id": "2TPbmxwhAIAT",
        "outputId": "5b24c311-4d83-4018-accc-13e1a3adc8b3"
      },
      "execution_count": 27,
      "outputs": [
        {
          "output_type": "stream",
          "name": "stdout",
          "text": [
            "\n",
            "Concatenate x and y along row:\n",
            " [[1 2 5 6]\n",
            " [3 5 7 8]]\n",
            "\n",
            "Concatenate v and w along column:\n",
            " [[ 9 11]\n",
            " [10 12]]\n"
          ]
        }
      ]
    },
    {
      "cell_type": "code",
      "source": [
        "# 7. Concatenate x and v\n",
        "# This will raise an error because x is 2D and v is 1D with incompatible shapes\n",
        "try:\n",
        "    concat_x_v = np.concatenate((x, v), axis=1)\n",
        "except Exception as e:\n",
        "    print(\"\\nError during concatenating x and v:\", e)"
      ],
      "metadata": {
        "colab": {
          "base_uri": "https://localhost:8080/"
        },
        "id": "q7EqsqdbAMHE",
        "outputId": "313fd2b6-c7e6-4f74-db04-619a7f58e2e7"
      },
      "execution_count": 28,
      "outputs": [
        {
          "output_type": "stream",
          "name": "stdout",
          "text": [
            "\n",
            "Error during concatenating x and v: all the input arrays must have same number of dimensions, but the array at index 0 has 2 dimension(s) and the array at index 1 has 1 dimension(s)\n"
          ]
        }
      ]
    },
    {
      "cell_type": "markdown",
      "source": [
        "### Problem - 4: Matrix Operations"
      ],
      "metadata": {
        "id": "R6F77z5QAiGe"
      }
    },
    {
      "cell_type": "code",
      "source": [
        "# Given matrices\n",
        "A = np.array([[3, 4], [7, 8]])\n",
        "B = np.array([[5, 3], [2, 1]])\n",
        "\n",
        "# 1. Prove A.A^-1 = I\n",
        "A_inv = np.linalg.inv(A)\n",
        "identity_matrix = np.dot(A, A_inv)\n",
        "print(\"\\nA * A^-1 = I:\\n\", identity_matrix)"
      ],
      "metadata": {
        "colab": {
          "base_uri": "https://localhost:8080/"
        },
        "id": "C9s24C63ApUb",
        "outputId": "af9de0ed-2bd7-4f04-e9ba-0190efa1477a"
      },
      "execution_count": 29,
      "outputs": [
        {
          "output_type": "stream",
          "name": "stdout",
          "text": [
            "\n",
            "A * A^-1 = I:\n",
            " [[1.00000000e+00 0.00000000e+00]\n",
            " [1.77635684e-15 1.00000000e+00]]\n"
          ]
        }
      ]
    },
    {
      "cell_type": "code",
      "source": [
        "# 2. Prove AB != BA\n",
        "AB = np.dot(A, B)\n",
        "BA = np.dot(B, A)\n",
        "print(\"\\nAB:\\n\", AB)\n",
        "print(\"\\nBA:\\n\", BA)\n",
        "print(\"\\nAB == BA:\", np.array_equal(AB, BA))"
      ],
      "metadata": {
        "colab": {
          "base_uri": "https://localhost:8080/"
        },
        "id": "jSi6u3XYAygM",
        "outputId": "b113ff10-f20d-43d3-a39d-e0d265b6ec6d"
      },
      "execution_count": 30,
      "outputs": [
        {
          "output_type": "stream",
          "name": "stdout",
          "text": [
            "\n",
            "AB:\n",
            " [[23 13]\n",
            " [51 29]]\n",
            "\n",
            "BA:\n",
            " [[36 44]\n",
            " [13 16]]\n",
            "\n",
            "AB == BA: False\n"
          ]
        }
      ]
    },
    {
      "cell_type": "code",
      "source": [
        "# 3. Prove (AB)^T = B^T * A^T\n",
        "transpose_AB = np.transpose(np.dot(A, B))\n",
        "transpose_BA = np.dot(np.transpose(B), np.transpose(A))\n",
        "print(\"\\n(AB)^T:\\n\", transpose_AB)\n",
        "print(\"\\nB^T * A^T:\\n\", transpose_BA)\n",
        "print(\"\\n(AB)^T == B^T * A^T:\", np.array_equal(transpose_AB, transpose_BA))"
      ],
      "metadata": {
        "colab": {
          "base_uri": "https://localhost:8080/"
        },
        "id": "wB0_Szc8A0u2",
        "outputId": "792e8b86-bc89-4f48-9c7d-71840911c955"
      },
      "execution_count": 31,
      "outputs": [
        {
          "output_type": "stream",
          "name": "stdout",
          "text": [
            "\n",
            "(AB)^T:\n",
            " [[23 51]\n",
            " [13 29]]\n",
            "\n",
            "B^T * A^T:\n",
            " [[23 51]\n",
            " [13 29]]\n",
            "\n",
            "(AB)^T == B^T * A^T: True\n"
          ]
        }
      ]
    },
    {
      "cell_type": "code",
      "source": [
        "# Solving the system of linear equations\n",
        "# 2x - 3y + z = -1\n",
        "# x - y + 2z = -3\n",
        "# 3x + y - z = 9\n",
        "coefficients = np.array([[2, -3, 1], [1, -1, 2], [3, 1, -1]])\n",
        "constants = np.array([-1, -3, 9])\n",
        "# Solve for x, y, z\n",
        "solution = np.linalg.solve(coefficients, constants)\n",
        "print(\"\\nSolution of the system of equations (x, y, z):\\n\", solution)\n"
      ],
      "metadata": {
        "colab": {
          "base_uri": "https://localhost:8080/"
        },
        "id": "DOj5JPdaA4Zb",
        "outputId": "6e59c639-4a29-49a6-a6d0-a0e172210500"
      },
      "execution_count": 32,
      "outputs": [
        {
          "output_type": "stream",
          "name": "stdout",
          "text": [
            "\n",
            "Solution of the system of equations (x, y, z):\n",
            " [ 2.  1. -2.]\n"
          ]
        }
      ]
    },
    {
      "cell_type": "markdown",
      "source": [
        "###Problem 5: Speed Comparison (NumPy vs Python Lists)"
      ],
      "metadata": {
        "id": "RjI_CtAyBLYz"
      }
    },
    {
      "cell_type": "code",
      "source": [
        "import time\n",
        "\n",
        "# 1. Element-wise Addition\n",
        "size = 1000000\n",
        "list_a = list(range(size))\n",
        "list_b = list(range(size))"
      ],
      "metadata": {
        "id": "t3bOM_1mBP2n"
      },
      "execution_count": 33,
      "outputs": []
    },
    {
      "cell_type": "code",
      "source": [
        "# Using Python Lists\n",
        "start = time.time()\n",
        "list_sum = [list_a[i] + list_b[i] for i in range(size)]\n",
        "end = time.time()\n",
        "print(\"\\nTime for element-wise addition using Python lists:\", end - start)"
      ],
      "metadata": {
        "colab": {
          "base_uri": "https://localhost:8080/"
        },
        "id": "SGcNTHUSBlgO",
        "outputId": "7d7f82c8-93c1-49e6-efd5-6b3d939bc469"
      },
      "execution_count": 34,
      "outputs": [
        {
          "output_type": "stream",
          "name": "stdout",
          "text": [
            "\n",
            "Time for element-wise addition using Python lists: 0.10127902030944824\n"
          ]
        }
      ]
    },
    {
      "cell_type": "code",
      "source": [
        "# Using NumPy Arrays\n",
        "a = np.arange(size)\n",
        "b = np.arange(size)\n",
        "\n",
        "start = time.time()\n",
        "numpy_sum = a + b\n",
        "end = time.time()\n",
        "print(\"Time for element-wise addition using NumPy arrays:\", end - start)"
      ],
      "metadata": {
        "colab": {
          "base_uri": "https://localhost:8080/"
        },
        "id": "_GDU2Lj1BoZD",
        "outputId": "3fc66fb2-ee38-459b-c3ac-26b32c458a52"
      },
      "execution_count": 35,
      "outputs": [
        {
          "output_type": "stream",
          "name": "stdout",
          "text": [
            "Time for element-wise addition using NumPy arrays: 0.01853799819946289\n"
          ]
        }
      ]
    },
    {
      "cell_type": "code",
      "source": [
        "# 2. Element-wise Multiplication\n",
        "# Using Python Lists\n",
        "start = time.time()\n",
        "list_multiply = [list_a[i] * list_b[i] for i in range(size)]\n",
        "end = time.time()\n",
        "print(\"\\nTime for element-wise multiplication using Python lists:\", end - start)"
      ],
      "metadata": {
        "colab": {
          "base_uri": "https://localhost:8080/"
        },
        "id": "rBxxs4KWBsAx",
        "outputId": "89ea52c4-2af6-4fbf-cee3-c3c77334b36e"
      },
      "execution_count": 36,
      "outputs": [
        {
          "output_type": "stream",
          "name": "stdout",
          "text": [
            "\n",
            "Time for element-wise multiplication using Python lists: 0.19034075736999512\n"
          ]
        }
      ]
    },
    {
      "cell_type": "code",
      "source": [
        "# Using NumPy Arrays\n",
        "start = time.time()\n",
        "numpy_multiply = a * b\n",
        "end = time.time()\n",
        "print(\"Time for element-wise multiplication using NumPy arrays:\", end - start)\n"
      ],
      "metadata": {
        "colab": {
          "base_uri": "https://localhost:8080/"
        },
        "id": "0hAdGYaXBxLu",
        "outputId": "efaaa988-e90e-47e3-f552-6dbf7069e8c3"
      },
      "execution_count": 37,
      "outputs": [
        {
          "output_type": "stream",
          "name": "stdout",
          "text": [
            "Time for element-wise multiplication using NumPy arrays: 0.016328811645507812\n"
          ]
        }
      ]
    },
    {
      "cell_type": "code",
      "source": [
        "# 3. Dot Product\n",
        "# Using Python Lists\n",
        "start = time.time()\n",
        "dot_product_python = sum([list_a[i] * list_b[i] for i in range(size)])\n",
        "end = time.time()\n",
        "print(\"\\nTime for dot product using Python lists:\", end - start)"
      ],
      "metadata": {
        "colab": {
          "base_uri": "https://localhost:8080/"
        },
        "id": "ArY7F72EB0iw",
        "outputId": "cfcfd0b7-2470-496f-cb8c-73fafb359931"
      },
      "execution_count": 38,
      "outputs": [
        {
          "output_type": "stream",
          "name": "stdout",
          "text": [
            "\n",
            "Time for dot product using Python lists: 0.2729649543762207\n"
          ]
        }
      ]
    },
    {
      "cell_type": "code",
      "source": [
        "# Using NumPy Arrays\n",
        "start = time.time()\n",
        "dot_product_numpy = np.dot(a, b)\n",
        "end = time.time()\n",
        "print(\"Time for dot product using NumPy arrays:\", end - start)"
      ],
      "metadata": {
        "colab": {
          "base_uri": "https://localhost:8080/"
        },
        "id": "43NQMYxZB7jB",
        "outputId": "f1fc8245-4e87-4492-aa57-266eaa735eb3"
      },
      "execution_count": 39,
      "outputs": [
        {
          "output_type": "stream",
          "name": "stdout",
          "text": [
            "Time for dot product using NumPy arrays: 0.0022554397583007812\n"
          ]
        }
      ]
    },
    {
      "cell_type": "code",
      "source": [
        "# 4. Matrix Multiplication\n",
        "matrix_size = 1000\n",
        "matrix_a = np.random.random((matrix_size, matrix_size))\n",
        "matrix_b = np.random.random((matrix_size, matrix_size))\n"
      ],
      "metadata": {
        "id": "-fWRsJMiB9dI"
      },
      "execution_count": 43,
      "outputs": []
    },
    {
      "cell_type": "code",
      "source": [
        "# Using Python Lists (This will be slow and inefficient)\n",
        "start = time.time()\n",
        "matrix_multiply_python = [[sum(matrix_a[i][k] * matrix_b[k][j] for k in range(matrix_size)) for j in range(matrix_size)] for i in range(matrix_size)]\n",
        "end = time.time()\n",
        "print(\"\\nTime for matrix multiplication using Python lists:\", end - start)\n"
      ],
      "metadata": {
        "colab": {
          "base_uri": "https://localhost:8080/"
        },
        "id": "QT8RRbNOC35I",
        "outputId": "637ad2a2-dc23-4f2a-d75c-163f24049690"
      },
      "execution_count": 42,
      "outputs": [
        {
          "output_type": "stream",
          "name": "stdout",
          "text": [
            "\n",
            "Time for matrix multiplication using Python lists: 801.1389710903168\n"
          ]
        }
      ]
    },
    {
      "cell_type": "code",
      "source": [
        "# Using NumPy Arrays\n",
        "start = time.time()\n",
        "matrix_multiply_numpy = np.dot(matrix_a, matrix_b)\n",
        "end = time.time()\n",
        "print(\"Time for matrix multiplication using NumPy arrays:\", end - start)"
      ],
      "metadata": {
        "colab": {
          "base_uri": "https://localhost:8080/"
        },
        "id": "iTPc9K_KGHET",
        "outputId": "26b49c4e-8c46-4270-f465-12e803371fde"
      },
      "execution_count": 44,
      "outputs": [
        {
          "output_type": "stream",
          "name": "stdout",
          "text": [
            "Time for matrix multiplication using NumPy arrays: 0.0011682510375976562\n"
          ]
        }
      ]
    }
  ]
}